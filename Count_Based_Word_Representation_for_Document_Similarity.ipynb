{
  "nbformat": 4,
  "nbformat_minor": 0,
  "metadata": {
    "kernelspec": {
      "display_name": "Python 3",
      "language": "python",
      "name": "python3"
    },
    "language_info": {
      "codemirror_mode": {
        "name": "ipython",
        "version": 3
      },
      "file_extension": ".py",
      "mimetype": "text/x-python",
      "name": "python",
      "nbconvert_exporter": "python",
      "pygments_lexer": "ipython3",
      "version": "3.7.3"
    },
    "colab": {
      "provenance": [],
      "include_colab_link": true
    }
  },
  "cells": [
    {
      "cell_type": "markdown",
      "metadata": {
        "id": "view-in-github",
        "colab_type": "text"
      },
      "source": [
        "<a href=\"https://colab.research.google.com/github/damzC/nlp/blob/main/Count_Based_Word_Representation_for_Document_Similarity.ipynb\" target=\"_parent\"><img src=\"https://colab.research.google.com/assets/colab-badge.svg\" alt=\"Open In Colab\"/></a>"
      ]
    },
    {
      "cell_type": "markdown",
      "metadata": {
        "id": "zKOySDfuxhnj"
      },
      "source": [
        "This notebook is an implementation of **Count Based** Word Representations and Text/Document Similarity. It demonstrates the use of **Bag of Words**, **Count Vectorizer** and **TF-IDF** concepts for word representation, which lie at the core of NLP. It also showcases how these concepts can be leveraged to find *similarity between documents*."
      ]
    },
    {
      "cell_type": "markdown",
      "metadata": {
        "id": "riHmWC4Hxhnm"
      },
      "source": [
        "# **Bag of Words**"
      ]
    },
    {
      "cell_type": "code",
      "metadata": {
        "id": "UHtZENZLxhno"
      },
      "source": [
        "review_1 = 'The movie was good and we really like it'\n",
        "review_2 = 'the movie was good but the ending was boring'\n",
        "review_3 = 'we did not like the movie as it was too lengthy'"
      ],
      "execution_count": null,
      "outputs": []
    },
    {
      "cell_type": "code",
      "metadata": {
        "id": "KJhq8qNIxhnv"
      },
      "source": [
        "import pandas as pd\n",
        "import numpy as np\n",
        "import nltk\n",
        "from nltk import word_tokenize"
      ],
      "execution_count": null,
      "outputs": []
    },
    {
      "cell_type": "code",
      "metadata": {
        "id": "INyWg1F7xhn4"
      },
      "source": [
        "review_1_tokens = word_tokenize(review_1)\n",
        "review_2_tokens = word_tokenize(review_2)\n",
        "review_3_tokens = word_tokenize(review_3)"
      ],
      "execution_count": null,
      "outputs": []
    },
    {
      "cell_type": "code",
      "metadata": {
        "id": "lnVVapU7xhoA"
      },
      "source": [
        "review_tokens = set(review_1_tokens).union(set(review_2_tokens)).union(set(review_3_tokens))"
      ],
      "execution_count": null,
      "outputs": []
    },
    {
      "cell_type": "code",
      "metadata": {
        "id": "PYF5X7VoxhoK",
        "outputId": "8b735b54-6884-4a82-b3cb-d92f0c2d25d3"
      },
      "source": [
        "len(review_tokens)"
      ],
      "execution_count": null,
      "outputs": [
        {
          "output_type": "execute_result",
          "data": {
            "text/plain": [
              "18"
            ]
          },
          "metadata": {
            "tags": []
          },
          "execution_count": 7
        }
      ]
    },
    {
      "cell_type": "code",
      "metadata": {
        "id": "sYsgShEnxhoT",
        "outputId": "4c5994e4-7c04-401d-d5e3-a69ba900bed4"
      },
      "source": [
        "review_tokens"
      ],
      "execution_count": null,
      "outputs": [
        {
          "output_type": "execute_result",
          "data": {
            "text/plain": [
              "{'The',\n",
              " 'and',\n",
              " 'as',\n",
              " 'boring',\n",
              " 'but',\n",
              " 'did',\n",
              " 'ending',\n",
              " 'good',\n",
              " 'it',\n",
              " 'lengthy',\n",
              " 'like',\n",
              " 'movie',\n",
              " 'not',\n",
              " 'really',\n",
              " 'the',\n",
              " 'too',\n",
              " 'was',\n",
              " 'we'}"
            ]
          },
          "metadata": {
            "tags": []
          },
          "execution_count": 8
        }
      ]
    },
    {
      "cell_type": "code",
      "metadata": {
        "id": "LddTAWsQxhoa"
      },
      "source": [
        "review1_dict = dict.fromkeys(review_tokens,0)"
      ],
      "execution_count": null,
      "outputs": []
    },
    {
      "cell_type": "code",
      "metadata": {
        "id": "SSHjyUTwxhon",
        "outputId": "02d2bb67-0c48-4ac6-aa30-d810c461a780"
      },
      "source": [
        "review1_dict"
      ],
      "execution_count": null,
      "outputs": [
        {
          "output_type": "execute_result",
          "data": {
            "text/plain": [
              "{'good': 0,\n",
              " 'we': 0,\n",
              " 'The': 0,\n",
              " 'ending': 0,\n",
              " 'but': 0,\n",
              " 'was': 0,\n",
              " 'lengthy': 0,\n",
              " 'it': 0,\n",
              " 'really': 0,\n",
              " 'movie': 0,\n",
              " 'boring': 0,\n",
              " 'did': 0,\n",
              " 'and': 0,\n",
              " 'like': 0,\n",
              " 'as': 0,\n",
              " 'the': 0,\n",
              " 'not': 0,\n",
              " 'too': 0}"
            ]
          },
          "metadata": {
            "tags": []
          },
          "execution_count": 10
        }
      ]
    },
    {
      "cell_type": "code",
      "metadata": {
        "id": "cecL8Adixhou"
      },
      "source": [
        "review1_dict = dict.fromkeys(review_tokens,0)\n",
        "review2_dict = dict.fromkeys(review_tokens,0)\n",
        "review3_dict = dict.fromkeys(review_tokens,0)"
      ],
      "execution_count": null,
      "outputs": []
    },
    {
      "cell_type": "code",
      "metadata": {
        "id": "l_w_A3I9xho2"
      },
      "source": [
        "for token in review_1_tokens:\n",
        "    review1_dict[token]+=1"
      ],
      "execution_count": null,
      "outputs": []
    },
    {
      "cell_type": "code",
      "metadata": {
        "id": "Aemz7bhZxho9",
        "outputId": "52fe20a9-6604-4625-a077-b31dc4c33085"
      },
      "source": [
        "review1_dict"
      ],
      "execution_count": null,
      "outputs": [
        {
          "output_type": "execute_result",
          "data": {
            "text/plain": [
              "{'good': 1,\n",
              " 'we': 1,\n",
              " 'The': 1,\n",
              " 'ending': 0,\n",
              " 'but': 0,\n",
              " 'was': 1,\n",
              " 'lengthy': 0,\n",
              " 'it': 1,\n",
              " 'really': 1,\n",
              " 'movie': 1,\n",
              " 'boring': 0,\n",
              " 'did': 0,\n",
              " 'and': 1,\n",
              " 'like': 1,\n",
              " 'as': 0,\n",
              " 'the': 0,\n",
              " 'not': 0,\n",
              " 'too': 0}"
            ]
          },
          "metadata": {
            "tags": []
          },
          "execution_count": 16
        }
      ]
    },
    {
      "cell_type": "code",
      "metadata": {
        "id": "LwROzYV8xhpL"
      },
      "source": [
        "for token in review_2_tokens:\n",
        "    review2_dict[token]+=1\n",
        "    \n",
        "for token in review_3_tokens:\n",
        "    review3_dict[token]+=1"
      ],
      "execution_count": null,
      "outputs": []
    },
    {
      "cell_type": "code",
      "metadata": {
        "id": "0DIfO8lJxhpR"
      },
      "source": [
        "reviews_Dict_DF = pd.DataFrame([review1_dict,review2_dict,review3_dict])"
      ],
      "execution_count": null,
      "outputs": []
    },
    {
      "cell_type": "code",
      "metadata": {
        "id": "f5HJ-eknxhpY",
        "outputId": "123a8f29-8b7c-430e-bbc0-c74a287683de"
      },
      "source": [
        "reviews_Dict_DF"
      ],
      "execution_count": null,
      "outputs": [
        {
          "output_type": "execute_result",
          "data": {
            "text/html": [
              "<div>\n",
              "<style scoped>\n",
              "    .dataframe tbody tr th:only-of-type {\n",
              "        vertical-align: middle;\n",
              "    }\n",
              "\n",
              "    .dataframe tbody tr th {\n",
              "        vertical-align: top;\n",
              "    }\n",
              "\n",
              "    .dataframe thead th {\n",
              "        text-align: right;\n",
              "    }\n",
              "</style>\n",
              "<table border=\"1\" class=\"dataframe\">\n",
              "  <thead>\n",
              "    <tr style=\"text-align: right;\">\n",
              "      <th></th>\n",
              "      <th>The</th>\n",
              "      <th>and</th>\n",
              "      <th>as</th>\n",
              "      <th>boring</th>\n",
              "      <th>but</th>\n",
              "      <th>did</th>\n",
              "      <th>ending</th>\n",
              "      <th>good</th>\n",
              "      <th>it</th>\n",
              "      <th>lengthy</th>\n",
              "      <th>like</th>\n",
              "      <th>movie</th>\n",
              "      <th>not</th>\n",
              "      <th>really</th>\n",
              "      <th>the</th>\n",
              "      <th>too</th>\n",
              "      <th>was</th>\n",
              "      <th>we</th>\n",
              "    </tr>\n",
              "  </thead>\n",
              "  <tbody>\n",
              "    <tr>\n",
              "      <th>0</th>\n",
              "      <td>1</td>\n",
              "      <td>1</td>\n",
              "      <td>0</td>\n",
              "      <td>0</td>\n",
              "      <td>0</td>\n",
              "      <td>0</td>\n",
              "      <td>0</td>\n",
              "      <td>1</td>\n",
              "      <td>1</td>\n",
              "      <td>0</td>\n",
              "      <td>1</td>\n",
              "      <td>1</td>\n",
              "      <td>0</td>\n",
              "      <td>1</td>\n",
              "      <td>0</td>\n",
              "      <td>0</td>\n",
              "      <td>1</td>\n",
              "      <td>1</td>\n",
              "    </tr>\n",
              "    <tr>\n",
              "      <th>1</th>\n",
              "      <td>0</td>\n",
              "      <td>0</td>\n",
              "      <td>0</td>\n",
              "      <td>1</td>\n",
              "      <td>1</td>\n",
              "      <td>0</td>\n",
              "      <td>1</td>\n",
              "      <td>1</td>\n",
              "      <td>0</td>\n",
              "      <td>0</td>\n",
              "      <td>0</td>\n",
              "      <td>1</td>\n",
              "      <td>0</td>\n",
              "      <td>0</td>\n",
              "      <td>2</td>\n",
              "      <td>0</td>\n",
              "      <td>2</td>\n",
              "      <td>0</td>\n",
              "    </tr>\n",
              "    <tr>\n",
              "      <th>2</th>\n",
              "      <td>0</td>\n",
              "      <td>0</td>\n",
              "      <td>1</td>\n",
              "      <td>0</td>\n",
              "      <td>0</td>\n",
              "      <td>1</td>\n",
              "      <td>0</td>\n",
              "      <td>0</td>\n",
              "      <td>1</td>\n",
              "      <td>1</td>\n",
              "      <td>1</td>\n",
              "      <td>1</td>\n",
              "      <td>1</td>\n",
              "      <td>0</td>\n",
              "      <td>1</td>\n",
              "      <td>1</td>\n",
              "      <td>1</td>\n",
              "      <td>1</td>\n",
              "    </tr>\n",
              "  </tbody>\n",
              "</table>\n",
              "</div>"
            ],
            "text/plain": [
              "   The  and  as  boring  but  did  ending  good  it  lengthy  like  movie  \\\n",
              "0    1    1   0       0    0    0       0     1   1        0     1      1   \n",
              "1    0    0   0       1    1    0       1     1   0        0     0      1   \n",
              "2    0    0   1       0    0    1       0     0   1        1     1      1   \n",
              "\n",
              "   not  really  the  too  was  we  \n",
              "0    0       1    0    0    1   1  \n",
              "1    0       0    2    0    2   0  \n",
              "2    1       0    1    1    1   1  "
            ]
          },
          "metadata": {
            "tags": []
          },
          "execution_count": 19
        }
      ]
    },
    {
      "cell_type": "markdown",
      "metadata": {
        "id": "YX5A6Uxoxhpe"
      },
      "source": [
        "This is the Term Frequency Matrix (TFM)"
      ]
    },
    {
      "cell_type": "markdown",
      "metadata": {
        "id": "BAvDk-yjxhpf"
      },
      "source": [
        "# **Count Vectorizer**"
      ]
    },
    {
      "cell_type": "code",
      "metadata": {
        "id": "-7AQVaxtxhpo"
      },
      "source": [
        "from sklearn.feature_extraction.text import CountVectorizer"
      ],
      "execution_count": null,
      "outputs": []
    },
    {
      "cell_type": "code",
      "metadata": {
        "id": "QppINk1gxhpu"
      },
      "source": [
        "review_list = [review_1,review_2,review_3]"
      ],
      "execution_count": null,
      "outputs": []
    },
    {
      "cell_type": "code",
      "metadata": {
        "id": "sct0frGPxhp0",
        "outputId": "ffeab302-e9d0-48bc-87c6-bb9627d859a8"
      },
      "source": [
        "review_list"
      ],
      "execution_count": null,
      "outputs": [
        {
          "output_type": "execute_result",
          "data": {
            "text/plain": [
              "['The movie was good and we really like it',\n",
              " 'the movie was good but the ending was boring',\n",
              " 'we did not like the movie as it was too lengthy']"
            ]
          },
          "metadata": {
            "tags": []
          },
          "execution_count": 22
        }
      ]
    },
    {
      "cell_type": "code",
      "metadata": {
        "id": "V8OMUBWOxhqA"
      },
      "source": [
        "count_vect = CountVectorizer()"
      ],
      "execution_count": null,
      "outputs": []
    },
    {
      "cell_type": "code",
      "metadata": {
        "id": "VzXovVgYxhqJ"
      },
      "source": [
        "X_counts = count_vect.fit_transform(review_list)"
      ],
      "execution_count": null,
      "outputs": []
    },
    {
      "cell_type": "code",
      "metadata": {
        "id": "eCZ2mbB9xhqP",
        "outputId": "f601c3f6-f977-4984-c33c-c36cc5b2e927"
      },
      "source": [
        "X_counts.toarray()"
      ],
      "execution_count": null,
      "outputs": [
        {
          "output_type": "execute_result",
          "data": {
            "text/plain": [
              "array([[1, 0, 0, 0, 0, 0, 1, 1, 0, 1, 1, 0, 1, 1, 0, 1, 1],\n",
              "       [0, 0, 1, 1, 0, 1, 1, 0, 0, 0, 1, 0, 0, 2, 0, 2, 0],\n",
              "       [0, 1, 0, 0, 1, 0, 0, 1, 1, 1, 1, 1, 0, 1, 1, 1, 1]], dtype=int64)"
            ]
          },
          "metadata": {
            "tags": []
          },
          "execution_count": 25
        }
      ]
    },
    {
      "cell_type": "code",
      "metadata": {
        "id": "O9m7MAp8xhqU",
        "outputId": "4bfda91d-f371-4d68-e060-310ae8f984e1"
      },
      "source": [
        "type(X_counts)"
      ],
      "execution_count": null,
      "outputs": [
        {
          "output_type": "execute_result",
          "data": {
            "text/plain": [
              "scipy.sparse.csr.csr_matrix"
            ]
          },
          "metadata": {
            "tags": []
          },
          "execution_count": 26
        }
      ]
    },
    {
      "cell_type": "markdown",
      "metadata": {
        "id": "3Rxi0ECqxhqa"
      },
      "source": [
        "CSR means Compressed Sparse Row, which is a row-wise sparse matrix"
      ]
    },
    {
      "cell_type": "code",
      "metadata": {
        "id": "IVgoCRh7xhqc",
        "outputId": "0fd3bf25-806a-4653-912e-2129eb99b5b9"
      },
      "source": [
        "X_names = count_vect.get_feature_names()\n",
        "X_names"
      ],
      "execution_count": null,
      "outputs": [
        {
          "output_type": "execute_result",
          "data": {
            "text/plain": [
              "['and',\n",
              " 'as',\n",
              " 'boring',\n",
              " 'but',\n",
              " 'did',\n",
              " 'ending',\n",
              " 'good',\n",
              " 'it',\n",
              " 'lengthy',\n",
              " 'like',\n",
              " 'movie',\n",
              " 'not',\n",
              " 'really',\n",
              " 'the',\n",
              " 'too',\n",
              " 'was',\n",
              " 'we']"
            ]
          },
          "metadata": {
            "tags": []
          },
          "execution_count": 27
        }
      ]
    },
    {
      "cell_type": "code",
      "metadata": {
        "id": "VN69dXSzxhqh",
        "outputId": "bc35a012-cc87-4180-d4f9-b4a64545a441"
      },
      "source": [
        "a = pd.DataFrame(X_counts.toarray(),columns=X_names)\n",
        "a"
      ],
      "execution_count": null,
      "outputs": [
        {
          "output_type": "execute_result",
          "data": {
            "text/html": [
              "<div>\n",
              "<style scoped>\n",
              "    .dataframe tbody tr th:only-of-type {\n",
              "        vertical-align: middle;\n",
              "    }\n",
              "\n",
              "    .dataframe tbody tr th {\n",
              "        vertical-align: top;\n",
              "    }\n",
              "\n",
              "    .dataframe thead th {\n",
              "        text-align: right;\n",
              "    }\n",
              "</style>\n",
              "<table border=\"1\" class=\"dataframe\">\n",
              "  <thead>\n",
              "    <tr style=\"text-align: right;\">\n",
              "      <th></th>\n",
              "      <th>and</th>\n",
              "      <th>as</th>\n",
              "      <th>boring</th>\n",
              "      <th>but</th>\n",
              "      <th>did</th>\n",
              "      <th>ending</th>\n",
              "      <th>good</th>\n",
              "      <th>it</th>\n",
              "      <th>lengthy</th>\n",
              "      <th>like</th>\n",
              "      <th>movie</th>\n",
              "      <th>not</th>\n",
              "      <th>really</th>\n",
              "      <th>the</th>\n",
              "      <th>too</th>\n",
              "      <th>was</th>\n",
              "      <th>we</th>\n",
              "    </tr>\n",
              "  </thead>\n",
              "  <tbody>\n",
              "    <tr>\n",
              "      <th>0</th>\n",
              "      <td>1</td>\n",
              "      <td>0</td>\n",
              "      <td>0</td>\n",
              "      <td>0</td>\n",
              "      <td>0</td>\n",
              "      <td>0</td>\n",
              "      <td>1</td>\n",
              "      <td>1</td>\n",
              "      <td>0</td>\n",
              "      <td>1</td>\n",
              "      <td>1</td>\n",
              "      <td>0</td>\n",
              "      <td>1</td>\n",
              "      <td>1</td>\n",
              "      <td>0</td>\n",
              "      <td>1</td>\n",
              "      <td>1</td>\n",
              "    </tr>\n",
              "    <tr>\n",
              "      <th>1</th>\n",
              "      <td>0</td>\n",
              "      <td>0</td>\n",
              "      <td>1</td>\n",
              "      <td>1</td>\n",
              "      <td>0</td>\n",
              "      <td>1</td>\n",
              "      <td>1</td>\n",
              "      <td>0</td>\n",
              "      <td>0</td>\n",
              "      <td>0</td>\n",
              "      <td>1</td>\n",
              "      <td>0</td>\n",
              "      <td>0</td>\n",
              "      <td>2</td>\n",
              "      <td>0</td>\n",
              "      <td>2</td>\n",
              "      <td>0</td>\n",
              "    </tr>\n",
              "    <tr>\n",
              "      <th>2</th>\n",
              "      <td>0</td>\n",
              "      <td>1</td>\n",
              "      <td>0</td>\n",
              "      <td>0</td>\n",
              "      <td>1</td>\n",
              "      <td>0</td>\n",
              "      <td>0</td>\n",
              "      <td>1</td>\n",
              "      <td>1</td>\n",
              "      <td>1</td>\n",
              "      <td>1</td>\n",
              "      <td>1</td>\n",
              "      <td>0</td>\n",
              "      <td>1</td>\n",
              "      <td>1</td>\n",
              "      <td>1</td>\n",
              "      <td>1</td>\n",
              "    </tr>\n",
              "  </tbody>\n",
              "</table>\n",
              "</div>"
            ],
            "text/plain": [
              "   and  as  boring  but  did  ending  good  it  lengthy  like  movie  not  \\\n",
              "0    1   0       0    0    0       0     1   1        0     1      1    0   \n",
              "1    0   0       1    1    0       1     1   0        0     0      1    0   \n",
              "2    0   1       0    0    1       0     0   1        1     1      1    1   \n",
              "\n",
              "   really  the  too  was  we  \n",
              "0       1    1    0    1   1  \n",
              "1       0    2    0    2   0  \n",
              "2       0    1    1    1   1  "
            ]
          },
          "metadata": {
            "tags": []
          },
          "execution_count": 28
        }
      ]
    },
    {
      "cell_type": "markdown",
      "metadata": {
        "id": "ap3BY4xHxhqn"
      },
      "source": [
        "# **TF-IDF**"
      ]
    },
    {
      "cell_type": "code",
      "metadata": {
        "id": "H1D9WT4Lxhqp"
      },
      "source": [
        "from sklearn.feature_extraction.text import TfidfVectorizer"
      ],
      "execution_count": null,
      "outputs": []
    },
    {
      "cell_type": "code",
      "metadata": {
        "id": "woVcfurhxhq1"
      },
      "source": [
        "tf_vect = TfidfVectorizer(min_df=1, lowercase=True, stop_words='english')"
      ],
      "execution_count": null,
      "outputs": []
    },
    {
      "cell_type": "code",
      "metadata": {
        "id": "FXbwsG0Zxhq9",
        "outputId": "aaf480d0-3cb6-4429-a413-18087968dbde"
      },
      "source": [
        "tf_matrix = tf_vect.fit_transform(review_list)\n",
        "tf_matrix.toarray()"
      ],
      "execution_count": null,
      "outputs": [
        {
          "output_type": "execute_result",
          "data": {
            "text/plain": [
              "array([[0.        , 0.        , 0.        , 0.4804584 , 0.        ,\n",
              "        0.4804584 , 0.37311881, 0.63174505],\n",
              "       [0.5844829 , 0.        , 0.5844829 , 0.44451431, 0.        ,\n",
              "        0.        , 0.34520502, 0.        ],\n",
              "       [0.        , 0.5844829 , 0.        , 0.        , 0.5844829 ,\n",
              "        0.44451431, 0.34520502, 0.        ]])"
            ]
          },
          "metadata": {
            "tags": []
          },
          "execution_count": 31
        }
      ]
    },
    {
      "cell_type": "code",
      "metadata": {
        "id": "GMUbzV-FxhrG",
        "outputId": "db9271a8-e9b0-4e0c-ad35-053ca27dc53d"
      },
      "source": [
        "tf_names = tf_vect.get_feature_names()\n",
        "tf_names"
      ],
      "execution_count": null,
      "outputs": [
        {
          "output_type": "execute_result",
          "data": {
            "text/plain": [
              "['boring', 'did', 'ending', 'good', 'lengthy', 'like', 'movie', 'really']"
            ]
          },
          "metadata": {
            "tags": []
          },
          "execution_count": 32
        }
      ]
    },
    {
      "cell_type": "code",
      "metadata": {
        "id": "ERxqm_ncxhrN",
        "outputId": "862645ab-6804-4588-db27-690da6a2c5de"
      },
      "source": [
        "type(tf_matrix)"
      ],
      "execution_count": null,
      "outputs": [
        {
          "output_type": "execute_result",
          "data": {
            "text/plain": [
              "scipy.sparse.csr.csr_matrix"
            ]
          },
          "metadata": {
            "tags": []
          },
          "execution_count": 33
        }
      ]
    },
    {
      "cell_type": "code",
      "metadata": {
        "id": "0Jnz1URdxhrS",
        "outputId": "34a67a2b-a5d7-46aa-ca12-cadd35c066c7"
      },
      "source": [
        "tf_matrix.shape"
      ],
      "execution_count": null,
      "outputs": [
        {
          "output_type": "execute_result",
          "data": {
            "text/plain": [
              "(3, 8)"
            ]
          },
          "metadata": {
            "tags": []
          },
          "execution_count": 34
        }
      ]
    },
    {
      "cell_type": "code",
      "metadata": {
        "id": "7Bl1VJF7xhrY"
      },
      "source": [
        "tf_df = pd.DataFrame(tf_matrix.toarray(),columns=tf_names)"
      ],
      "execution_count": null,
      "outputs": []
    },
    {
      "cell_type": "code",
      "metadata": {
        "id": "B29WgTCyxhrf",
        "outputId": "b332e92d-9a3c-44dc-d8b6-4ed2f5226c41"
      },
      "source": [
        "tf_df"
      ],
      "execution_count": null,
      "outputs": [
        {
          "output_type": "execute_result",
          "data": {
            "text/html": [
              "<div>\n",
              "<style scoped>\n",
              "    .dataframe tbody tr th:only-of-type {\n",
              "        vertical-align: middle;\n",
              "    }\n",
              "\n",
              "    .dataframe tbody tr th {\n",
              "        vertical-align: top;\n",
              "    }\n",
              "\n",
              "    .dataframe thead th {\n",
              "        text-align: right;\n",
              "    }\n",
              "</style>\n",
              "<table border=\"1\" class=\"dataframe\">\n",
              "  <thead>\n",
              "    <tr style=\"text-align: right;\">\n",
              "      <th></th>\n",
              "      <th>boring</th>\n",
              "      <th>did</th>\n",
              "      <th>ending</th>\n",
              "      <th>good</th>\n",
              "      <th>lengthy</th>\n",
              "      <th>like</th>\n",
              "      <th>movie</th>\n",
              "      <th>really</th>\n",
              "    </tr>\n",
              "  </thead>\n",
              "  <tbody>\n",
              "    <tr>\n",
              "      <th>0</th>\n",
              "      <td>0.000000</td>\n",
              "      <td>0.000000</td>\n",
              "      <td>0.000000</td>\n",
              "      <td>0.480458</td>\n",
              "      <td>0.000000</td>\n",
              "      <td>0.480458</td>\n",
              "      <td>0.373119</td>\n",
              "      <td>0.631745</td>\n",
              "    </tr>\n",
              "    <tr>\n",
              "      <th>1</th>\n",
              "      <td>0.584483</td>\n",
              "      <td>0.000000</td>\n",
              "      <td>0.584483</td>\n",
              "      <td>0.444514</td>\n",
              "      <td>0.000000</td>\n",
              "      <td>0.000000</td>\n",
              "      <td>0.345205</td>\n",
              "      <td>0.000000</td>\n",
              "    </tr>\n",
              "    <tr>\n",
              "      <th>2</th>\n",
              "      <td>0.000000</td>\n",
              "      <td>0.584483</td>\n",
              "      <td>0.000000</td>\n",
              "      <td>0.000000</td>\n",
              "      <td>0.584483</td>\n",
              "      <td>0.444514</td>\n",
              "      <td>0.345205</td>\n",
              "      <td>0.000000</td>\n",
              "    </tr>\n",
              "  </tbody>\n",
              "</table>\n",
              "</div>"
            ],
            "text/plain": [
              "     boring       did    ending      good   lengthy      like     movie  \\\n",
              "0  0.000000  0.000000  0.000000  0.480458  0.000000  0.480458  0.373119   \n",
              "1  0.584483  0.000000  0.584483  0.444514  0.000000  0.000000  0.345205   \n",
              "2  0.000000  0.584483  0.000000  0.000000  0.584483  0.444514  0.345205   \n",
              "\n",
              "     really  \n",
              "0  0.631745  \n",
              "1  0.000000  \n",
              "2  0.000000  "
            ]
          },
          "metadata": {
            "tags": []
          },
          "execution_count": 36
        }
      ]
    },
    {
      "cell_type": "markdown",
      "metadata": {
        "id": "X5gcIg0Cxhrm"
      },
      "source": [
        "# **Document Similarity Estimation using TF-IDF**"
      ]
    },
    {
      "cell_type": "code",
      "metadata": {
        "id": "XgA0ZgwXxhrn"
      },
      "source": [
        "doc1 = 'Natural Language Processing is the study of making a machine understand and generate languages like humans'\n",
        "doc2 = 'Cricket is a sports played with a bat and a ball. It is not played in many countries'"
      ],
      "execution_count": null,
      "outputs": []
    },
    {
      "cell_type": "code",
      "metadata": {
        "id": "OaPAbtHTxhrt"
      },
      "source": [
        "doc3 = 'Languages are the cornerstone of human evolution. Making a machine study languages is not easy'\n",
        "doc4 = 'Football is a sport played in almost all countries of the world. It is played by kicking a ball'"
      ],
      "execution_count": null,
      "outputs": []
    },
    {
      "cell_type": "code",
      "metadata": {
        "id": "8CRDYJRaxhr0"
      },
      "source": [
        "documents = [doc1, doc2, doc3, doc4]"
      ],
      "execution_count": null,
      "outputs": []
    },
    {
      "cell_type": "code",
      "metadata": {
        "id": "8EDFKqoBxhr6"
      },
      "source": [
        "tf_vect_docs = TfidfVectorizer(min_df=1, lowercase=True, stop_words='english')"
      ],
      "execution_count": null,
      "outputs": []
    },
    {
      "cell_type": "code",
      "metadata": {
        "id": "xV4OnrhoxhsA"
      },
      "source": [
        "tf_matrix_docs = tf_vect_docs.fit_transform(documents)"
      ],
      "execution_count": null,
      "outputs": []
    },
    {
      "cell_type": "markdown",
      "metadata": {
        "id": "FUAC2vTHxhsL"
      },
      "source": [
        "## **Now calculate the document similarities**"
      ]
    },
    {
      "cell_type": "code",
      "metadata": {
        "id": "v5fEwpFNxhsM"
      },
      "source": [
        "from sklearn.metrics.pairwise import cosine_similarity as c_sim"
      ],
      "execution_count": null,
      "outputs": []
    },
    {
      "cell_type": "code",
      "metadata": {
        "id": "7AtUYZy0xhsW",
        "outputId": "d9f3261b-afd3-4bc3-a709-a20e3eec0290"
      },
      "source": [
        "c_sim(tf_matrix_docs[0:1], tf_matrix_docs[2:3])"
      ],
      "execution_count": null,
      "outputs": [
        {
          "output_type": "execute_result",
          "data": {
            "text/plain": [
              "array([[0.34918271]])"
            ]
          },
          "metadata": {
            "tags": []
          },
          "execution_count": 42
        }
      ]
    },
    {
      "cell_type": "code",
      "metadata": {
        "id": "Ol6Bjlkrxhsm",
        "outputId": "8f67f2b9-dec6-4d61-bcfc-c4cf976a97ee"
      },
      "source": [
        "c_sim(tf_matrix_docs[1:2], tf_matrix_docs[3:4])"
      ],
      "execution_count": null,
      "outputs": [
        {
          "output_type": "execute_result",
          "data": {
            "text/plain": [
              "array([[0.51711443]])"
            ]
          },
          "metadata": {
            "tags": []
          },
          "execution_count": 43
        }
      ]
    },
    {
      "cell_type": "code",
      "metadata": {
        "id": "oCBb5P12xhss",
        "outputId": "75f74f17-335e-436f-cdf2-d02465c09d15"
      },
      "source": [
        "c_sim(tf_matrix_docs[1:2], tf_matrix_docs[2:3])"
      ],
      "execution_count": null,
      "outputs": [
        {
          "output_type": "execute_result",
          "data": {
            "text/plain": [
              "array([[0.]])"
            ]
          },
          "metadata": {
            "tags": []
          },
          "execution_count": 42
        }
      ]
    },
    {
      "cell_type": "code",
      "metadata": {
        "id": "HgUq-dkOxhs0",
        "outputId": "77ae8d46-866d-4114-d810-45cca780a55e"
      },
      "source": [
        "c_sim(tf_matrix_docs[0:1], tf_matrix_docs[3:4])"
      ],
      "execution_count": null,
      "outputs": [
        {
          "output_type": "execute_result",
          "data": {
            "text/plain": [
              "array([[0.]])"
            ]
          },
          "metadata": {
            "tags": []
          },
          "execution_count": 43
        }
      ]
    }
  ]
}